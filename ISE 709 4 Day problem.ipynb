{
 "cells": [
  {
   "cell_type": "code",
   "execution_count": 9,
   "id": "0835de2b",
   "metadata": {},
   "outputs": [],
   "source": [
    "import numpy as np\n",
    "import pandas as pd "
   ]
  },
  {
   "cell_type": "code",
   "execution_count": 10,
   "id": "a3987547",
   "metadata": {},
   "outputs": [],
   "source": [
    "S = np.array(range(70))"
   ]
  },
  {
   "cell_type": "code",
   "execution_count": 11,
   "id": "f4aa89d6",
   "metadata": {},
   "outputs": [],
   "source": [
    "S_total=1000\n",
    "N=1000\n"
   ]
  },
  {
   "cell_type": "code",
   "execution_count": 12,
   "id": "8fa133b6",
   "metadata": {},
   "outputs": [],
   "source": [
    "V_n_i=np.zeros((N,71))\n",
    "pol=np.zeros((N,71),dtype=object)\n"
   ]
  },
  {
   "cell_type": "code",
   "execution_count": 13,
   "id": "d72514a3",
   "metadata": {},
   "outputs": [],
   "source": [
    "for i in S: \n",
    "    V_n_i[0][i] = 0\n",
    "    pol[0][i] =1"
   ]
  },
  {
   "cell_type": "code",
   "execution_count": 14,
   "id": "4ac86bd8",
   "metadata": {},
   "outputs": [],
   "source": [
    "beta=.9"
   ]
  },
  {
   "cell_type": "code",
   "execution_count": 15,
   "id": "72b7123b",
   "metadata": {},
   "outputs": [],
   "source": [
    "R = [55,56,30,58,59,60,61,62,63,64]\n",
    "p=[.05,.05,.1,.1,.2,.2,.1,.1,.05,.05]"
   ]
  },
  {
   "cell_type": "code",
   "execution_count": null,
   "id": "a644c56f",
   "metadata": {
    "scrolled": true
   },
   "outputs": [],
   "source": [
    "c1=2\n",
    "c2=2\n",
    "c3=2\n",
    "c4=2\n",
    "r1=4\n",
    "r2=4\n",
    "r3=4\n",
    "r4=4\n",
    "p2=.5\n",
    "C=50\n",
    "\n",
    "d1=50\n",
    "\n",
    "for n in range(0,N):\n",
    "    \n",
    "    for i in S:\n",
    "        #print(i)\n",
    "        if n==0:\n",
    "            V_n_i[n][i] = 0\n",
    "        \n",
    "        else:\n",
    "            D1 = 20\n",
    "            D2=15\n",
    "            D3=10\n",
    "            D4=15\n",
    "            \n",
    "            D=D1+D2+D3+D4\n",
    "           \n",
    "            \n",
    "            a1_range = i\n",
    "            high_value = 1000\n",
    "\n",
    "# Create an array with high values as defaults\n",
    "            f = np.full((100, 100, 100, 100), high_value)\n",
    "            I1=i\n",
    "            for a1 in range(0,I1+1):\n",
    "                I2 = I1 -a1 + int(.8 *max(a1-D1,0))\n",
    "                \n",
    "                for a2 in range(0,I2+1):\n",
    "                    I3 = I2 -a2 + int(.8 *max(a2-D2,0))\n",
    "                    for a3 in range(0,I3+1): \n",
    "                        I4 = I3 -a3 + int(.8 *max(a3-D3,0))\n",
    "                        for a4 in range(0,I4+1): \n",
    "                            I_f = I4 -a4 + int(.3 *max(a4-D4,0))\n",
    "                    \n",
    "                            E = abs((D1- max(D1-a1,0))/D1 - (D2- max(D2-a2,0))/D2 ) +abs((D3- max(D3-a3,0))/D3 - (D2- max(D2-a2,0))/D2 ) +abs((D4- max(D4-a4,0))/D4 - (D2- max(D2-a2,0))/D2 )+abs((D3- max(D3-a3,0))/D3 - (D4- max(D4-a4,0))/D4 )+abs((D1- max(D1-a1,0))/D1 - (D4- max(D4-a4,0))/D4 )+abs((D1- max(D1-a1,0))/D1 - (D3- max(D3-a3,0))/D3 )\n",
    "                    \n",
    "                            b=0\n",
    "                            for k in range(0,10):\n",
    "                                b=b+ p[k]* V_n_i[n-1][min(int(p2*I_f)+R[k],C)]\n",
    "                            \n",
    "                        \n",
    "                            f[a1][a2][a3][a4] = c1*max(D1-a1,0) + c2 * max(D2-a2,0) - r1 *(D1- max(D1-a1,0)) - r2 *(D2- max(D2-a2,0)) + beta * b + d1*E\n",
    "                    \n",
    "            V_n_i[n][i] = np.min(f)\n",
    "            min_index_flat = np.argmin(f)\n",
    "            \n",
    "\n",
    "            min_index= np.unravel_index(min_index_flat, f.shape)\n",
    "            index_0, index_1, index_2, index_3 = min_index\n",
    "            \n",
    "            If_f = i - index_0 + int(.6* max(index_0-D1,0)) - index_1 + int(.6* max(index_1-D2,0))  -index_2+ int(.8 *max(index_2-D3,0)) -index_3 + int(.8 *max(index_3-D4,0))\n",
    "                    \n",
    "            \n",
    "            pol[n][i]= (index_0,index_1,index_2,index_3,If_f)\n",
    "    \n",
    "    count =0\n",
    "    for i in S: \n",
    "        \n",
    "        \n",
    "        if abs(V_n_i[n][i] - V_n_i[n-1][i]) <.1:\n",
    "            count = count +1\n",
    "    \n",
    "    if count > S_total-1:\n",
    "        \n",
    "        break\n"
   ]
  },
  {
   "cell_type": "code",
   "execution_count": null,
   "id": "1a11caf3",
   "metadata": {},
   "outputs": [],
   "source": [
    "print(n) #number of iterations"
   ]
  },
  {
   "cell_type": "code",
   "execution_count": 88,
   "id": "3d2ec16a",
   "metadata": {},
   "outputs": [
    {
     "data": {
      "text/plain": [
       "array([(0, 0, 0, 0, 0), (0, 0, 0, 0, 1), (0, 0, 0, 0, 2), (1, 1, 0, 1, 0),\n",
       "       (1, 1, 1, 1, 0), (2, 1, 1, 1, 0), (2, 2, 1, 1, 0), (2, 2, 1, 2, 0),\n",
       "       (3, 2, 1, 2, 0), (3, 2, 1, 2, 1), (3, 3, 2, 2, 0), (4, 3, 2, 2, 0),\n",
       "       (4, 3, 2, 3, 0), (4, 3, 2, 3, 1), (4, 3, 2, 3, 2), (5, 4, 2, 4, 0),\n",
       "       (5, 4, 3, 4, 0), (6, 4, 3, 4, 0), (6, 5, 3, 4, 0), (6, 5, 3, 5, 0),\n",
       "       (7, 5, 3, 5, 0), (7, 5, 3, 5, 1), (7, 6, 4, 5, 0), (8, 6, 4, 5, 0),\n",
       "       (8, 6, 4, 6, 0), (8, 6, 4, 6, 1), (8, 6, 4, 6, 2), (9, 7, 4, 7, 0),\n",
       "       (9, 7, 5, 7, 0), (10, 7, 5, 7, 0), (10, 8, 5, 7, 0),\n",
       "       (10, 8, 5, 8, 0), (11, 8, 5, 8, 0), (11, 8, 5, 8, 1),\n",
       "       (11, 9, 6, 8, 0), (12, 9, 6, 8, 0), (12, 9, 6, 9, 0),\n",
       "       (12, 9, 6, 9, 1), (12, 9, 6, 9, 2), (13, 10, 6, 10, 0),\n",
       "       (13, 10, 7, 10, 0), (14, 10, 7, 10, 0), (14, 11, 7, 10, 0),\n",
       "       (14, 11, 7, 11, 0), (15, 11, 7, 11, 0), (15, 11, 7, 11, 1),\n",
       "       (15, 12, 8, 11, 0), (16, 12, 8, 11, 0), (16, 12, 8, 12, 0),\n",
       "       (16, 12, 8, 12, 1), (16, 12, 8, 12, 2), (17, 13, 8, 13, 0),\n",
       "       (17, 13, 9, 13, 0), (18, 13, 9, 13, 0), (18, 14, 9, 13, 0),\n",
       "       (18, 14, 9, 14, 0), (19, 14, 9, 14, 0), (19, 14, 9, 14, 1),\n",
       "       (19, 15, 10, 14, 0), (20, 15, 10, 14, 0), (20, 15, 10, 15, 0),\n",
       "       (20, 15, 10, 15, 1), (20, 15, 10, 15, 2), (20, 15, 10, 15, 3),\n",
       "       (20, 15, 10, 15, 4), (20, 15, 10, 15, 5), (20, 15, 10, 15, 6),\n",
       "       (20, 15, 10, 15, 7), (20, 15, 10, 15, 8), (20, 15, 10, 15, 9)],\n",
       "      dtype=object)"
      ]
     },
     "execution_count": 88,
     "metadata": {},
     "output_type": "execute_result"
    }
   ],
   "source": [
    "pol[n][:-1]\n",
    "dropped_tuple = pol[1][:-1]\n",
    "dropped_tuple"
   ]
  },
  {
   "cell_type": "code",
   "execution_count": 91,
   "id": "3914378b",
   "metadata": {},
   "outputs": [],
   "source": [
    "modified_tuples = [(x, y,z,w,v) for x, y,z,w,v in dropped_tuple]\n",
    "my_array = np.array(modified_tuples)\n",
    "# Convert modified tuples to array\n",
    "data = np.array(my_array)"
   ]
  },
  {
   "cell_type": "code",
   "execution_count": 92,
   "id": "06e50e89",
   "metadata": {},
   "outputs": [
    {
     "data": {
      "image/png": "[encoded data removed]",
      "text/plain": [
       "<Figure size 640x480 with 1 Axes>"
      ]
     },
     "metadata": {},
     "output_type": "display_data"
    }
   ],
   "source": [
    "import numpy as np\n",
    "import matplotlib.pyplot as plt\n",
    "\n",
    "# Data\n",
    "data =data\n",
    "\n",
    "# Extract decisions and corresponding states\n",
    "decisions = data\n",
    "states = np.sum(data, axis=1)\n",
    "\n",
    "# Plotting\n",
    "plt.scatter(states, decisions[:, 0], label='Restock at Tuesday', color='blue')\n",
    "plt.scatter(states, decisions[:, 1], label='Restock at Wednesday', color='red')\n",
    "plt.scatter(states, decisions[:, 2], label='Restock at Thursday', color='black')\n",
    "plt.scatter(states, decisions[:, 3], label='Restock at Friday', color='orange')\n",
    "plt.scatter(states, decisions[:, 4], label='Carryover', color='pink')\n",
    "plt.xlabel('State')\n",
    "plt.ylabel('Decision')\n",
    "plt.title('Decisions vs State')\n",
    "plt.legend()\n",
    "plt.grid(True)\n",
    "\n",
    "# Show the plot\n",
    "plt.show()\n"
   ]
  },
  {
   "cell_type": "code",
   "execution_count": 41,
   "id": "d01c9d09",
   "metadata": {},
   "outputs": [
    {
     "ename": "IndexError",
     "evalue": "index 21 is out of bounds for axis 0 with size 21",
     "output_type": "error",
     "traceback": [
      "\u001b[1;31m---------------------------------------------------------------------------\u001b[0m",
      "\u001b[1;31mIndexError\u001b[0m                                Traceback (most recent call last)",
      "Cell \u001b[1;32mIn[41], line 4\u001b[0m\n\u001b[0;32m      2\u001b[0m pol\u001b[38;5;241m=\u001b[39mnp\u001b[38;5;241m.\u001b[39mzeros((N,\u001b[38;5;241m21\u001b[39m))\n\u001b[0;32m      3\u001b[0m \u001b[38;5;28;01mfor\u001b[39;00m i \u001b[38;5;129;01min\u001b[39;00m S: \n\u001b[1;32m----> 4\u001b[0m     V_n_i[\u001b[38;5;241m0\u001b[39m][i] \u001b[38;5;241m=\u001b[39m \u001b[38;5;241m0\u001b[39m\n\u001b[0;32m      5\u001b[0m     pol[\u001b[38;5;241m0\u001b[39m][i] \u001b[38;5;241m=\u001b[39m\u001b[38;5;241m1\u001b[39m\n\u001b[0;32m      7\u001b[0m alpha \u001b[38;5;241m=\u001b[39m\u001b[38;5;241m.5\u001b[39m    \n",
      "\u001b[1;31mIndexError\u001b[0m: index 21 is out of bounds for axis 0 with size 21"
     ]
    }
   ],
   "source": [
    "V_n_i=np.zeros((N,21))\n",
    "pol=np.zeros((N,21))\n",
    "for i in S: \n",
    "    V_n_i[0][i] = 0\n",
    "    pol[0][i] =1\n",
    "    \n",
    "alpha =.5    \n",
    "for n in range(0,N):\n",
    "    \n",
    "    for i in S:\n",
    "        #print(i)\n",
    "        if n==0:\n",
    "            V_n_i[n][i] = 0\n",
    "        \n",
    "        else:\n",
    "            #print(\"dd\")\n",
    "            a=0\n",
    "            for j in S:\n",
    "                a = a+ p_ij[i][j]*V_n_i[n-1][j]\n",
    "            \n",
    "            b=R + alpha *V_n_i[n-1][0]\n",
    "            V_n_i[n][i]=2*(i)  + min(b, alpha*a)\n",
    "            \n",
    "            if (b<alpha*a):\n",
    "\n",
    "                pol[n][i]=1\n",
    "            else:\n",
    "                pol[n][i]=0 \n",
    "    #print(V_n_i[n][i])\n",
    "    count =0\n",
    "    \n",
    "    if n>0:\n",
    "        for i in S: \n",
    "            if abs(V_n_i[n][i] - V_n_i[n-1][i]) <.1:\n",
    "                #print(V_n_i[n][i] , V_n_i[n-1][i])\n",
    "                count = count +1\n",
    "        \n",
    "        \n",
    "        \n",
    "    #print(count)\n",
    "    \n",
    "    if count > 16:\n",
    "        #print(count)\n",
    "        #print(\"ff\")\n",
    "        break\n",
    " \n",
    "print(n)\n"
   ]
  },
  {
   "cell_type": "code",
   "execution_count": null,
   "id": "1bbae050",
   "metadata": {},
   "outputs": [],
   "source": [
    "pol[n]"
   ]
  },
  {
   "cell_type": "code",
   "execution_count": null,
   "id": "c28c4c70",
   "metadata": {},
   "outputs": [],
   "source": [
    "from matplotlib import pyplot as plt\n",
    "x = list(range(1, len(V_n_i[0]) +1))\n",
    "plt.figure(figsize=(10, 10))\n",
    "for i in range(len(V_n_i)):\n",
    "    plt.plot(x, V_n_i[i], label=str(i))\n",
    "plt.ylabel('Value',fontsize=12)\n",
    "plt.xlabel('State',fontsize=12)\n",
    "\n",
    "\n",
    "plt.show()"
   ]
  },
  {
   "cell_type": "code",
   "execution_count": null,
   "id": "6d22fd6a",
   "metadata": {},
   "outputs": [],
   "source": [
    "import numpy as np\n",
    "\n",
    "# Assuming f is your 2D NumPy array\n",
    "f = np.array([[1, 2, 3],\n",
    "              [4, 1, 6],\n",
    "              [-9, 8, 1]])\n",
    "\n",
    "# Find the flattened index of the minimum value\n",
    "min_index_flat = np.argmin(f)\n",
    "\n",
    "# Convert the flattened index to row and column indices\n",
    "min_index_row, min_index_col = np.unravel_index(min_index_flat, f.shape)\n",
    "\n",
    "print(\"Indices where the minimum value occurred:\", min_index_row, min_index_col)\n"
   ]
  },
  {
   "cell_type": "code",
   "execution_count": 109,
   "id": "0fb8921e",
   "metadata": {},
   "outputs": [],
   "source": [
    "import numpy as np\n",
    "import matplotlib.pyplot as plt\n",
    "\n",
    "# Resulting matrix\n",
    "result_matrix = np.array([(0, 0), (1, 0), (1, 1), (2, 1), (3, 1), (3, 2), (4, 2), (5, 2), (5, 3), (6, 3),\n",
    "                          (7, 3), (7, 4), (8, 4), (9, 4), (9, 5), (10, 5), (11, 5), (11, 6), (12, 6),\n",
    "                          (13, 6), (13, 7), (14, 7), (15, 7), (15, 8), (16, 8), (17, 8), (17, 9), (18, 9),\n",
    "                          (19, 9), (19, 10), (20, 10), (20, 10), (20, 10), (20, 10), (20, 10), (20, 10),\n",
    "                          (20, 10), (20, 10), (20, 10), (20, 10), (20, 10), (20, 10), (20, 10), (20, 10),\n",
    "                          (20, 10), (20, 10), (20, 10), (20, 10), (20, 10), (20, 10), (20, 10), (20, 10)])\n",
    "\n",
    "# Reshape the matrix to 7x7 (assuming you want a square matrix)\n",
    "result_matrix = result_matrix[:-1].reshape(7, 7, 2)\n",
    "\n",
    "# Create a heatmap\n",
    "plt.imshow(result_matrix[:, :, 0], cmap='viridis', interpolation='nearest')\n",
    "plt.colorbar(label='Decision 1')\n",
    "plt.title('Decision 1 Heatmap')\n",
    "plt.show()\n",
    "\n",
    "plt.imshow(result_matrix[:, :, 1], cmap='viridis', interpolation='nearest')\n",
    "plt.colorbar(label='Decision 2')\n",
    "plt.title('Decision 2 Heatmap')\n",
    "plt.show()\n"
   ]
  },
  {
   "cell_type": "code",
   "execution_count": null,
   "id": "18d24e89",
   "metadata": {},
   "outputs": [],
   "source": []
  }
 ],
 "metadata": {
  "kernelspec": {
   "display_name": "Python 3 (ipykernel)",
   "language": "python",
   "name": "python3"
  },
  "language_info": {
   "codemirror_mode": {
    "name": "ipython",
    "version": 3
   },
   "file_extension": ".py",
   "mimetype": "text/x-python",
   "name": "python",
   "nbconvert_exporter": "python",
   "pygments_lexer": "ipython3",
   "version": "3.11.4"
  }
 },
 "nbformat": 4,
 "nbformat_minor": 5
}
